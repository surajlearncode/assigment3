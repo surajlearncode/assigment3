{
 "cells": [
  {
   "cell_type": "code",
   "execution_count": 2,
   "id": "ac6f1126-9180-423c-b7e3-6c5393f148c6",
   "metadata": {},
   "outputs": [
    {
     "name": "stdout",
     "output_type": "stream",
     "text": [
      "Original list of tuples:\n",
      "[('Sachin Tendulkar', 34357), ('Ricky Ponting', 27483), ('Jack Kallis', 25534), ('Virat Kohli', 24936)]\n",
      "\n",
      "Sorting the List of Tuples:\n",
      "[('Virat Kohli', 24936), ('Jack Kallis', 25534), ('Ricky Ponting', 27483), ('Sachin Tendulkar', 34357)]\n"
     ]
    }
   ],
   "source": [
    "ANS 1:\n",
    "name = [('Sachin Tendulkar', 34357), ('Ricky Ponting', 27483), ('Jack Kallis', 25534), ('Virat Kohli', 24936)]\n",
    "print(\"Original list of tuples:\")\n",
    "print(name)\n",
    "name.sort(key = lambda x: x[1])\n",
    "print(\"\\nSorting the List of Tuples:\")\n",
    "print(name)"
   ]
  },
  {
   "cell_type": "code",
   "execution_count": 19,
   "id": "e653f423-de6e-4a87-b9b5-e53c116a0530",
   "metadata": {},
   "outputs": [
    {
     "name": "stdout",
     "output_type": "stream",
     "text": [
      "list after going square using map and filter function\n"
     ]
    },
    {
     "data": {
      "text/plain": [
       "[1, 4, 9, 16, 25, 36, 49, 64, 81, 100]"
      ]
     },
     "execution_count": 19,
     "metadata": {},
     "output_type": "execute_result"
    }
   ],
   "source": [
    "ANS 2 :\n",
    "l = [1,2,3,4,5,6,7,8,9,10]\n",
    "print(\"list after going square using map and filter function\")\n",
    "list(map(lambda x : x**2 ,l))"
   ]
  },
  {
   "cell_type": "code",
   "execution_count": 12,
   "id": "2bb0c6c4-b41b-4a2f-8fce-776722242bcd",
   "metadata": {},
   "outputs": [
    {
     "name": "stdout",
     "output_type": "stream",
     "text": [
      "Original list is:\n",
      "[1, 2, 3, 4, 5, 6, 7, 8, 9, 10]\n",
      "\n",
      " after converting it :\n",
      "('1', '2', '3', '4', '5', '6', '7', '8', '9', '10')\n"
     ]
    }
   ],
   "source": [
    "ANS 3 :\n",
    "nums_list = [1,2,3,4,5,6,7,8,9,10]\n",
    "print(\"Original list is:\")\n",
    "print(nums_list)\n",
    "result_tuple = tuple(map(str,nums_list))\n",
    "print(\"\\n after converting it :\")\n",
    "print(result_tuple)"
   ]
  },
  {
   "cell_type": "code",
   "execution_count": 2,
   "id": "1b1b623b-e0e7-463d-aa20-03e9ad69d365",
   "metadata": {},
   "outputs": [
    {
     "name": "stdout",
     "output_type": "stream",
     "text": [
      "The product of list is : 15511210043330985984000000\n"
     ]
    }
   ],
   "source": [
    "ANS 4:\n",
    "import functools\n",
    "l = range(1,26)\n",
    " \n",
    "print(\"The product of list is : \", end=\"\")\n",
    "print(functools.reduce(lambda a, b: a*b, l))"
   ]
  },
  {
   "cell_type": "code",
   "execution_count": 5,
   "id": "069c290d-6fdd-4c83-bd39-c2ba54b8f5e0",
   "metadata": {},
   "outputs": [
    {
     "name": "stdout",
     "output_type": "stream",
     "text": [
      "Original list of integers:\n",
      "[2, 3, 6, 9, 27, 60, 90, 120, 55, 46]\n",
      "\n",
      " list of number divisible by 2:\n",
      "[2, 6, 60, 90, 120, 46]\n",
      "\n",
      " list of number divisible by 3:\n",
      "[3, 6, 9, 27, 60, 90, 120]\n"
     ]
    }
   ],
   "source": [
    "ANS 5:\n",
    "nums = [2, 3, 6, 9, 27, 60, 90, 120, 55, 46]\n",
    "print(\"Original list of integers:\")\n",
    "print(nums)\n",
    "print(\"\\n list of number divisible by 2:\")\n",
    "div_bytwo = list(filter(lambda x: x%2 == 0, nums))\n",
    "print(div_bytwo)\n",
    "print(\"\\n list of number divisible by 3:\")\n",
    "div_bythree = list(filter(lambda x: x%3 == 0, nums))\n",
    "print(div_bythree)"
   ]
  },
  {
   "cell_type": "code",
   "execution_count": 6,
   "id": "bcd768dc-d0b9-431e-b574-1304f78559dc",
   "metadata": {},
   "outputs": [
    {
     "name": "stdout",
     "output_type": "stream",
     "text": [
      "Orginal list of strings:\n",
      "['python', 'php', 'aba', 'radar', 'level']\n",
      "\n",
      "List of palindromes:\n",
      "['php', 'aba', 'radar', 'level']\n"
     ]
    }
   ],
   "source": [
    "ANS 6 :\n",
    "texts = ['python', 'php', 'aba', 'radar', 'level']\n",
    "print(\"Orginal list of strings:\")\n",
    "print(texts) \n",
    "result = list(filter(lambda x: (x == \"\".join(reversed(x))), texts)) \n",
    "print(\"\\nList of palindromes:\")\n",
    "print(result)"
   ]
  },
  {
   "cell_type": "code",
   "execution_count": null,
   "id": "f567d498-b8cc-470b-915b-fe3092648bca",
   "metadata": {},
   "outputs": [],
   "source": []
  }
 ],
 "metadata": {
  "kernelspec": {
   "display_name": "Python 3 (ipykernel)",
   "language": "python",
   "name": "python3"
  },
  "language_info": {
   "codemirror_mode": {
    "name": "ipython",
    "version": 3
   },
   "file_extension": ".py",
   "mimetype": "text/x-python",
   "name": "python",
   "nbconvert_exporter": "python",
   "pygments_lexer": "ipython3",
   "version": "3.10.8"
  }
 },
 "nbformat": 4,
 "nbformat_minor": 5
}
